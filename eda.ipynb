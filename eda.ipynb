{
 "cells": [
  {
   "attachments": {},
   "cell_type": "markdown",
   "metadata": {},
   "source": [
    "# Eda"
   ]
  },
  {
   "attachments": {},
   "cell_type": "markdown",
   "metadata": {},
   "source": [
    "Me enfocaré en la realización del eda, luego agregamos la introducción, razón del mismo etc. Procuraré documentar cada paso que haga dentro de este"
   ]
  },
  {
   "attachments": {},
   "cell_type": "markdown",
   "metadata": {},
   "source": [
    "### Librerías a usar:"
   ]
  },
  {
   "cell_type": "code",
   "execution_count": 1,
   "metadata": {},
   "outputs": [],
   "source": [
    "import pandas as pd\n",
    "import matplotlib.pyplot as plt\n",
    "import seaborn as sns\n",
    "import re"
   ]
  },
  {
   "attachments": {},
   "cell_type": "markdown",
   "metadata": {},
   "source": [
    "## USA"
   ]
  },
  {
   "attachments": {},
   "cell_type": "markdown",
   "metadata": {},
   "source": [
    "### Creación del dataframe a analizar:"
   ]
  },
  {
   "cell_type": "code",
   "execution_count": 2,
   "metadata": {},
   "outputs": [],
   "source": [
    "df = pd.read_csv('src/data/usa_dataset.csv')"
   ]
  },
  {
   "attachments": {},
   "cell_type": "markdown",
   "metadata": {},
   "source": [
    "### Comienzo del analisis:"
   ]
  },
  {
   "attachments": {},
   "cell_type": "markdown",
   "metadata": {},
   "source": [
    "Se comenzará el analisis del dataframe de USA, observando los metadatos del mismo, para proseguir con una analisis más especifico sobre sus columnas."
   ]
  },
  {
   "cell_type": "code",
   "execution_count": 3,
   "metadata": {},
   "outputs": [
    {
     "data": {
      "text/plain": [
       "(11397, 22)"
      ]
     },
     "execution_count": 3,
     "metadata": {},
     "output_type": "execute_result"
    }
   ],
   "source": [
    "df.shape"
   ]
  },
  {
   "attachments": {},
   "cell_type": "markdown",
   "metadata": {},
   "source": [
    "El dataframe contiene 22 columnas y 11397 filas."
   ]
  },
  {
   "cell_type": "code",
   "execution_count": 4,
   "metadata": {},
   "outputs": [
    {
     "data": {
      "text/plain": [
       "Index(['time', 'latitude', 'longitude', 'depth', 'mag', 'magType', 'nst',\n",
       "       'gap', 'dmin', 'rms', 'net', 'id', 'updated', 'place', 'type',\n",
       "       'horizontalError', 'depthError', 'magError', 'magNst', 'status',\n",
       "       'locationSource', 'magSource'],\n",
       "      dtype='object')"
      ]
     },
     "execution_count": 4,
     "metadata": {},
     "output_type": "execute_result"
    }
   ],
   "source": [
    "df.columns\n"
   ]
  },
  {
   "attachments": {},
   "cell_type": "markdown",
   "metadata": {},
   "source": [
    "El nombre de las columnas son:\n",
    "\n",
    "- time\n",
    "- latitude\n",
    "- longitude\n",
    "- depth\n",
    "- mag\n",
    "- magType\n",
    "- ns    \n",
    "- gap\n",
    "- dmin\n",
    "- rms\n",
    "- net\n",
    "- id\n",
    "- updated\n",
    "- place\n",
    "- typ\n",
    "- horizontalError\n",
    "- depthError\n",
    "- magError\n",
    "- magNst\n",
    "- status\n",
    "- locationSource\n",
    "- magSource"
   ]
  },
  {
   "cell_type": "code",
   "execution_count": 7,
   "metadata": {},
   "outputs": [
    {
     "name": "stdout",
     "output_type": "stream",
     "text": [
      "<class 'pandas.core.frame.DataFrame'>\n",
      "RangeIndex: 11397 entries, 0 to 11396\n",
      "Data columns (total 22 columns):\n",
      " #   Column           Non-Null Count  Dtype  \n",
      "---  ------           --------------  -----  \n",
      " 0   time             11397 non-null  object \n",
      " 1   latitude         11397 non-null  float64\n",
      " 2   longitude        11397 non-null  float64\n",
      " 3   depth            11397 non-null  float64\n",
      " 4   mag              11397 non-null  float64\n",
      " 5   magType          11397 non-null  object \n",
      " 6   nst              8350 non-null   float64\n",
      " 7   gap              8350 non-null   float64\n",
      " 8   dmin             6017 non-null   float64\n",
      " 9   rms              11397 non-null  float64\n",
      " 10  net              11397 non-null  object \n",
      " 11  id               11397 non-null  object \n",
      " 12  updated          11397 non-null  object \n",
      " 13  place            10898 non-null  object \n",
      " 14  type             11397 non-null  object \n",
      " 15  horizontalError  7647 non-null   float64\n",
      " 16  depthError       11397 non-null  float64\n",
      " 17  magError         8329 non-null   float64\n",
      " 18  magNst           8339 non-null   float64\n",
      " 19  status           11397 non-null  object \n",
      " 20  locationSource   11397 non-null  object \n",
      " 21  magSource        11397 non-null  object \n",
      "dtypes: float64(12), object(10)\n",
      "memory usage: 1.9+ MB\n"
     ]
    }
   ],
   "source": [
    "df.info()"
   ]
  },
  {
   "attachments": {},
   "cell_type": "markdown",
   "metadata": {},
   "source": [
    "Las columnas del dataframe tienen distintos tipos de datos, por lo que se pueden categorizar las columnas por el tipo de datos que contengan.\n",
    "\n",
    "Columnas tipo object( columnas que muy probablemente tengan datos del tipo string o de texto ):\n",
    "\n",
    "- time\n",
    "- magType\n",
    "- net\n",
    "- id\n",
    "- updated\n",
    "- place\n",
    "- type\n",
    "- status\n",
    "- locationSource\n",
    "- magSource\n",
    "\n",
    "Columnas tipo float( columnas con datos numericos decimales ):\n",
    "\n",
    "- latitude\n",
    "- longitude\n",
    "- depth\n",
    "- mag\n",
    "- nst\n",
    "- gap\n",
    "- dmin\n",
    "- rms\n",
    "- horizontalError\n",
    "- depthError\n",
    "- magError\n",
    "- magNst\n",
    "\n",
    "Se analizará primero las columnas con datos de tipo string(texto), para continuar posteriormente con las de tipo numerico."
   ]
  },
  {
   "attachments": {},
   "cell_type": "markdown",
   "metadata": {},
   "source": []
  },
  {
   "cell_type": "code",
   "execution_count": null,
   "metadata": {},
   "outputs": [],
   "source": [
    "#dejar solo el pais o lugar en el \"lugar evento\"\n",
    "\n",
    "df['lugar_evento'] = df['lugar_evento'].str.extract(r'(?:[^,]*,)*([^,]*)$')"
   ]
  },
  {
   "cell_type": "code",
   "execution_count": null,
   "metadata": {},
   "outputs": [],
   "source": [
    "#Copia y redondeo de magnitud\n",
    "\n",
    "df_copia = df.copy()\n",
    "df_copia['mag'] = df_copia['mag'].round()\n",
    "df_copia = df_copia[df_copia['mag'] > 0]"
   ]
  },
  {
   "cell_type": "code",
   "execution_count": null,
   "metadata": {},
   "outputs": [],
   "source": [
    "#Sismos por Magnitud\n",
    "sns.catplot(\n",
    "    data=df_copia,\n",
    "    x='mag',\n",
    "    kind='count',\n",
    ")\n",
    "plt.title('Cantidad de Sismos por Magnitud')\n",
    "plt.show"
   ]
  },
  {
   "attachments": {},
   "cell_type": "markdown",
   "metadata": {},
   "source": [
    "### location Source\n",
    "\n",
    "se traduce al español como \"fuente de localización\" y se refiere a la entidad o institución responsable de proporcionar la información sobre la ubicación geográfica del sismo."
   ]
  },
  {
   "cell_type": "code",
   "execution_count": null,
   "metadata": {},
   "outputs": [],
   "source": [
    "conteo = df['fuente_localizacion'].value_counts()\n",
    "conteo"
   ]
  },
  {
   "attachments": {},
   "cell_type": "markdown",
   "metadata": {},
   "source": [
    "CI: Red Sísmica de California (California Integrated Seismic Network)\n",
    "NC: Red Sísmica de Carolina del Norte (North Carolina Seismic Network)\n",
    "NN: Red Nacional de Sismología de Canadá (National Seismograph Network)\n",
    "UU: Red Sísmica de Utah (University of Utah Seismograph Stations)\n",
    "OK: Red Sísmica de Oklahoma (Oklahoma Geological Survey)\n",
    "UW: Red Sísmica de Washington (Pacific Northwest Seismic Network)\n",
    "MB: Red Sísmica de Manitoba, Canadá (Manitoba Seismic Network)\n",
    "TX: Red Sísmica de Texas (TexNet Seismic Monitoring Program)\n",
    "US: Red Sísmica de los Estados Unidos (United States Geological Survey)\n",
    "NM: Red Sísmica de Nuevo México (New Mexico Tech Seismic Network)\n",
    "SE: Red Sísmica del Sureste de los Estados Unidos (Southeast U.S. Seismic Network)\n",
    "TUL: Red Sísmica de la Universidad de Tulsa (University of Tulsa Seismic Network)\n",
    "ISMP: Red Sísmica Internacional (International Seismological Centre)\n",
    "LD: Red Sísmica de Londres (London Seismic Network)\n",
    "OTT: Red Sísmica de Ottawa (Ottawa-Gatineau Seismic Monitoring Centre)\n",
    "EW: Red Sísmica del Oeste de los Estados Unidos (Earthquake Hazards Program Western Region)"
   ]
  }
 ],
 "metadata": {
  "kernelspec": {
   "display_name": "Python 3",
   "language": "python",
   "name": "python3"
  },
  "language_info": {
   "codemirror_mode": {
    "name": "ipython",
    "version": 3
   },
   "file_extension": ".py",
   "mimetype": "text/x-python",
   "name": "python",
   "nbconvert_exporter": "python",
   "pygments_lexer": "ipython3",
   "version": "3.9.6"
  },
  "orig_nbformat": 4
 },
 "nbformat": 4,
 "nbformat_minor": 2
}
