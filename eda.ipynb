{
 "cells": [
  {
   "attachments": {},
   "cell_type": "markdown",
   "metadata": {},
   "source": [
    "# Eda"
   ]
  },
  {
   "attachments": {},
   "cell_type": "markdown",
   "metadata": {},
   "source": [
    "Me enfocaré en la realización del eda, luego agregamos la introducción, razón del mismo etc. Procuraré documentar cada paso que haga dentro de este"
   ]
  },
  {
   "attachments": {},
   "cell_type": "markdown",
   "metadata": {},
   "source": [
    "### Librerías a usar:"
   ]
  },
  {
   "cell_type": "code",
   "execution_count": 1,
   "metadata": {},
   "outputs": [],
   "source": [
    "import pandas as pd\n",
    "import matplotlib as plt\n"
   ]
  },
  {
   "attachments": {},
   "cell_type": "markdown",
   "metadata": {},
   "source": [
    "## USA"
   ]
  },
  {
   "attachments": {},
   "cell_type": "markdown",
   "metadata": {},
   "source": [
    "### Creación del dataframe a analizar:"
   ]
  },
  {
   "cell_type": "code",
   "execution_count": 2,
   "metadata": {},
   "outputs": [],
   "source": [
    "df = pd.read_csv('src/data/usa_dataset.csv')"
   ]
  },
  {
   "attachments": {},
   "cell_type": "markdown",
   "metadata": {},
   "source": [
    "### Comienzo del analisis:"
   ]
  },
  {
   "attachments": {},
   "cell_type": "markdown",
   "metadata": {},
   "source": [
    "Se comenzará el analisis del dataframe de USA, observando los metadatos del mismo, para proseguir con una analisis más especifico sobre sus columnas."
   ]
  },
  {
   "cell_type": "code",
   "execution_count": 3,
   "metadata": {},
   "outputs": [
    {
     "data": {
      "text/plain": [
       "(11397, 22)"
      ]
     },
     "execution_count": 3,
     "metadata": {},
     "output_type": "execute_result"
    }
   ],
   "source": [
    "df.shape"
   ]
  },
  {
   "attachments": {},
   "cell_type": "markdown",
   "metadata": {},
   "source": [
    "El dataframe contiene 22 columnas y 11397 filas."
   ]
  },
  {
   "cell_type": "code",
   "execution_count": 4,
   "metadata": {},
   "outputs": [
    {
     "data": {
      "text/plain": [
       "Index(['time', 'latitude', 'longitude', 'depth', 'mag', 'magType', 'nst',\n",
       "       'gap', 'dmin', 'rms', 'net', 'id', 'updated', 'place', 'type',\n",
       "       'horizontalError', 'depthError', 'magError', 'magNst', 'status',\n",
       "       'locationSource', 'magSource'],\n",
       "      dtype='object')"
      ]
     },
     "execution_count": 4,
     "metadata": {},
     "output_type": "execute_result"
    }
   ],
   "source": [
    "df.columns\n"
   ]
  },
  {
   "attachments": {},
   "cell_type": "markdown",
   "metadata": {},
   "source": [
    "El nombre de las columnas son:\n",
    "\n",
    "- time\n",
    "- latitude\n",
    "- longitude\n",
    "- depth\n",
    "- mag\n",
    "- magType\n",
    "- ns    \n",
    "- gap\n",
    "- dmin\n",
    "- rms\n",
    "- net\n",
    "- id\n",
    "- updated\n",
    "- place\n",
    "- typ\n",
    "- horizontalError\n",
    "- depthError\n",
    "- magError\n",
    "- magNst\n",
    "- status\n",
    "- locationSource\n",
    "- magSource"
   ]
  },
  {
   "cell_type": "code",
   "execution_count": 7,
   "metadata": {},
   "outputs": [
    {
     "name": "stdout",
     "output_type": "stream",
     "text": [
      "<class 'pandas.core.frame.DataFrame'>\n",
      "RangeIndex: 11397 entries, 0 to 11396\n",
      "Data columns (total 22 columns):\n",
      " #   Column           Non-Null Count  Dtype  \n",
      "---  ------           --------------  -----  \n",
      " 0   time             11397 non-null  object \n",
      " 1   latitude         11397 non-null  float64\n",
      " 2   longitude        11397 non-null  float64\n",
      " 3   depth            11397 non-null  float64\n",
      " 4   mag              11397 non-null  float64\n",
      " 5   magType          11397 non-null  object \n",
      " 6   nst              8350 non-null   float64\n",
      " 7   gap              8350 non-null   float64\n",
      " 8   dmin             6017 non-null   float64\n",
      " 9   rms              11397 non-null  float64\n",
      " 10  net              11397 non-null  object \n",
      " 11  id               11397 non-null  object \n",
      " 12  updated          11397 non-null  object \n",
      " 13  place            10898 non-null  object \n",
      " 14  type             11397 non-null  object \n",
      " 15  horizontalError  7647 non-null   float64\n",
      " 16  depthError       11397 non-null  float64\n",
      " 17  magError         8329 non-null   float64\n",
      " 18  magNst           8339 non-null   float64\n",
      " 19  status           11397 non-null  object \n",
      " 20  locationSource   11397 non-null  object \n",
      " 21  magSource        11397 non-null  object \n",
      "dtypes: float64(12), object(10)\n",
      "memory usage: 1.9+ MB\n"
     ]
    }
   ],
   "source": [
    "df.info()"
   ]
  },
  {
   "attachments": {},
   "cell_type": "markdown",
   "metadata": {},
   "source": [
    "Las columnas del dataframe tienen distintos tipos de datos, por lo que se pueden categorizar las columnas por el tipo de datos que contengan.\n",
    "\n",
    "Columnas tipo object( columnas que muy probablemente tengan datos del tipo string o de texto ):\n",
    "\n",
    "- time\n",
    "- magType\n",
    "- net\n",
    "- id\n",
    "- updated\n",
    "- place\n",
    "- type\n",
    "- status\n",
    "- locationSource\n",
    "- magSource\n",
    "\n",
    "Columnas tipo float( columnas con datos numericos decimales ):\n",
    "\n",
    "- latitude\n",
    "- longitude\n",
    "- depth\n",
    "- mag\n",
    "- nst\n",
    "- gap\n",
    "- dmin\n",
    "- rms\n",
    "- horizontalError\n",
    "- depthError\n",
    "- magError\n",
    "- magNst\n",
    "\n",
    "Se analizará primero las columnas con datos de tipo string(texto), para continuar posteriormente con las de tipo numerico."
   ]
  },
  {
   "attachments": {},
   "cell_type": "markdown",
   "metadata": {},
   "source": [
    "#### Columnas de tipo string"
   ]
  },
  {
   "attachments": {},
   "cell_type": "markdown",
   "metadata": {},
   "source": [
    "Antes de empezar el analisis de cada columna, es necesario entender a qué hace referencia cada columna, y nombrarlas con nombres más faciles de entender. Observemos de forma general el contenido del dataframe en busca de darle un mejor nombre a las columnas por su contenido."
   ]
  },
  {
   "cell_type": "code",
   "execution_count": 10,
   "metadata": {},
   "outputs": [
    {
     "data": {
      "text/html": [
       "<div>\n",
       "<style scoped>\n",
       "    .dataframe tbody tr th:only-of-type {\n",
       "        vertical-align: middle;\n",
       "    }\n",
       "\n",
       "    .dataframe tbody tr th {\n",
       "        vertical-align: top;\n",
       "    }\n",
       "\n",
       "    .dataframe thead th {\n",
       "        text-align: right;\n",
       "    }\n",
       "</style>\n",
       "<table border=\"1\" class=\"dataframe\">\n",
       "  <thead>\n",
       "    <tr style=\"text-align: right;\">\n",
       "      <th></th>\n",
       "      <th>time</th>\n",
       "      <th>magType</th>\n",
       "      <th>net</th>\n",
       "      <th>id</th>\n",
       "      <th>updated</th>\n",
       "      <th>place</th>\n",
       "      <th>type</th>\n",
       "      <th>status</th>\n",
       "      <th>locationSource</th>\n",
       "      <th>magSource</th>\n",
       "    </tr>\n",
       "  </thead>\n",
       "  <tbody>\n",
       "    <tr>\n",
       "      <th>0</th>\n",
       "      <td>2023-06-28T18:11:31.608Z</td>\n",
       "      <td>ml</td>\n",
       "      <td>nn</td>\n",
       "      <td>nn00861894</td>\n",
       "      <td>2023-06-28T18:13:37.477Z</td>\n",
       "      <td>21 km WSW of Indian Springs, Nevada</td>\n",
       "      <td>earthquake</td>\n",
       "      <td>automatic</td>\n",
       "      <td>nn</td>\n",
       "      <td>nn</td>\n",
       "    </tr>\n",
       "    <tr>\n",
       "      <th>1</th>\n",
       "      <td>2023-06-28T18:04:05.510Z</td>\n",
       "      <td>md</td>\n",
       "      <td>nc</td>\n",
       "      <td>nc73906411</td>\n",
       "      <td>2023-06-28T18:05:38.817Z</td>\n",
       "      <td>7km WNW of Cobb, CA</td>\n",
       "      <td>earthquake</td>\n",
       "      <td>automatic</td>\n",
       "      <td>nc</td>\n",
       "      <td>nc</td>\n",
       "    </tr>\n",
       "    <tr>\n",
       "      <th>2</th>\n",
       "      <td>2023-06-28T17:39:57.380Z</td>\n",
       "      <td>md</td>\n",
       "      <td>nc</td>\n",
       "      <td>nc73906406</td>\n",
       "      <td>2023-06-28T17:58:14.272Z</td>\n",
       "      <td>9km WNW of Cobb, CA</td>\n",
       "      <td>earthquake</td>\n",
       "      <td>automatic</td>\n",
       "      <td>nc</td>\n",
       "      <td>nc</td>\n",
       "    </tr>\n",
       "    <tr>\n",
       "      <th>3</th>\n",
       "      <td>2023-06-28T17:37:18.132Z</td>\n",
       "      <td>ml</td>\n",
       "      <td>ak</td>\n",
       "      <td>ak02388bjgkl</td>\n",
       "      <td>2023-06-28T17:38:38.745Z</td>\n",
       "      <td>79 km SSE of King Salmon, Alaska</td>\n",
       "      <td>earthquake</td>\n",
       "      <td>automatic</td>\n",
       "      <td>ak</td>\n",
       "      <td>ak</td>\n",
       "    </tr>\n",
       "    <tr>\n",
       "      <th>4</th>\n",
       "      <td>2023-06-28T17:28:28.710Z</td>\n",
       "      <td>md</td>\n",
       "      <td>nc</td>\n",
       "      <td>nc73906396</td>\n",
       "      <td>2023-06-28T17:48:16.079Z</td>\n",
       "      <td>8km NW of The Geysers, CA</td>\n",
       "      <td>earthquake</td>\n",
       "      <td>automatic</td>\n",
       "      <td>nc</td>\n",
       "      <td>nc</td>\n",
       "    </tr>\n",
       "  </tbody>\n",
       "</table>\n",
       "</div>"
      ],
      "text/plain": [
       "                       time magType net            id   \n",
       "0  2023-06-28T18:11:31.608Z      ml  nn    nn00861894  \\\n",
       "1  2023-06-28T18:04:05.510Z      md  nc    nc73906411   \n",
       "2  2023-06-28T17:39:57.380Z      md  nc    nc73906406   \n",
       "3  2023-06-28T17:37:18.132Z      ml  ak  ak02388bjgkl   \n",
       "4  2023-06-28T17:28:28.710Z      md  nc    nc73906396   \n",
       "\n",
       "                    updated                                place        type   \n",
       "0  2023-06-28T18:13:37.477Z  21 km WSW of Indian Springs, Nevada  earthquake  \\\n",
       "1  2023-06-28T18:05:38.817Z                  7km WNW of Cobb, CA  earthquake   \n",
       "2  2023-06-28T17:58:14.272Z                  9km WNW of Cobb, CA  earthquake   \n",
       "3  2023-06-28T17:38:38.745Z     79 km SSE of King Salmon, Alaska  earthquake   \n",
       "4  2023-06-28T17:48:16.079Z            8km NW of The Geysers, CA  earthquake   \n",
       "\n",
       "      status locationSource magSource  \n",
       "0  automatic             nn        nn  \n",
       "1  automatic             nc        nc  \n",
       "2  automatic             nc        nc  \n",
       "3  automatic             ak        ak  \n",
       "4  automatic             nc        nc  "
      ]
     },
     "execution_count": 10,
     "metadata": {},
     "output_type": "execute_result"
    }
   ],
   "source": [
    "df.select_dtypes(include=['object']).head()"
   ]
  },
  {
   "attachments": {},
   "cell_type": "markdown",
   "metadata": {},
   "source": [
    "- La columna time, hace referencia a la fecha en la que se tomó la medida del terremoto, se cambiará su nombre a \"fecha\". Como esta columna contiene fechas, se cambiara su tipo de dato de \"object\" a \"date_time\" para mejorar el analisis\n",
    "- La columna magType, hace referencia al tipo de magnitud registrada, la clasificación de las mismas se puede encontrar en este --> [link](https://www.usgs.gov/programs/earthquake-hazards/magnitude-types) <--, se cambiará su nombre a tipo_de_magnitud\n",
    "- La columna net, hace referencia a la \"Network\" o red sismologica que detecto el evento, "
   ]
  },
  {
   "attachments": {},
   "cell_type": "markdown",
   "metadata": {},
   "source": []
  },
  {
   "cell_type": "code",
   "execution_count": null,
   "metadata": {},
   "outputs": [],
   "source": []
  },
  {
   "attachments": {},
   "cell_type": "markdown",
   "metadata": {},
   "source": []
  }
 ],
 "metadata": {
  "kernelspec": {
   "display_name": "Python 3",
   "language": "python",
   "name": "python3"
  },
  "language_info": {
   "codemirror_mode": {
    "name": "ipython",
    "version": 3
   },
   "file_extension": ".py",
   "mimetype": "text/x-python",
   "name": "python",
   "nbconvert_exporter": "python",
   "pygments_lexer": "ipython3",
   "version": "3.9.6"
  },
  "orig_nbformat": 4
 },
 "nbformat": 4,
 "nbformat_minor": 2
}
